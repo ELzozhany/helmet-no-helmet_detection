{
 "cells": [
  {
   "cell_type": "code",
   "execution_count": null,
   "id": "614f44b0",
   "metadata": {},
   "outputs": [
    {
     "name": "stderr",
     "output_type": "stream",
     "text": [
      "Using cache found in C:\\Users\\sa/.cache\\torch\\hub\\ultralytics_yolov5_master\n",
      "YOLOv5  2024-3-27 Python-3.11.3 torch-2.0.1+cpu CPU\n",
      "\n",
      "Fusing layers... \n",
      "YOLOv5s summary: 213 layers, 7225885 parameters, 0 gradients\n",
      "Adding AutoShape... \n"
     ]
    },
    {
     "name": "stdout",
     "output_type": "stream",
     "text": [
      "no_helmet: 56.0\n"
     ]
    }
   ],
   "source": [
    "import cv2\n",
    "import torch\n",
    "\n",
    "# Load pre-trained YOLOv5 model\n",
    "model = torch.hub.load('ultralytics/yolov5', 'yolov5s')\n",
    "\n",
    "# Load class names (e.g., \"helmet\" and \"no_helmet\")\n",
    "class_names = ['helmet', 'no_helmet']\n",
    "\n",
    "# Load an image for detection\n",
    "image_path = r'E:\\blue eye samuray\\OIP (1).jpg'\n",
    "img = cv2.imread(image_path)\n",
    "\n",
    "# Perform inference\n",
    "results = model(img)\n",
    "\n",
    "\n",
    "detections = results.pred[0]\n",
    "for det in detections:\n",
    "    label, confidence, bbox = det[5], det[4], det[:4]\n",
    "    if confidence > 0.5:\n",
    "        if 0 <= int(label) < len(class_names):  # Check valid index\n",
    "            x1, y1, x2, y2 = map(int, bbox)\n",
    "            cv2.rectangle(img, (x1, y1), (x2, y2), (0, 255, 0), 2)\n",
    "            cv2.putText(img, f'{class_names[int(label)]} ({confidence:.2f})', (x1, y1 - 10),\n",
    "                        cv2.FONT_HERSHEY_SIMPLEX, 0.5, (0, 255, 0), 2)\n",
    "        else:\n",
    "            print(f\"no_helmet: {label}\")\n",
    "  \n",
    "# Resize the image \n",
    "resized_img = cv2.resize(img, (img.shape[1] * 2, img.shape[0] * 2))\n",
    "\n",
    "# Save or display the resized result\n",
    "cv2.imwrite('output_resized.jpg', resized_img)\n",
    "cv2.imshow('Helmet Detection (Resized)', resized_img)\n",
    "cv2.waitKey(0)\n",
    "cv2.destroyAllWindows()"
   ]
  },
  {
   "cell_type": "code",
   "execution_count": null,
   "id": "696cb20f",
   "metadata": {},
   "outputs": [],
   "source": []
  }
 ],
 "metadata": {
  "kernelspec": {
   "display_name": "Python 3 (ipykernel)",
   "language": "python",
   "name": "python3"
  },
  "language_info": {
   "codemirror_mode": {
    "name": "ipython",
    "version": 3
   },
   "file_extension": ".py",
   "mimetype": "text/x-python",
   "name": "python",
   "nbconvert_exporter": "python",
   "pygments_lexer": "ipython3",
   "version": "3.11.3"
  }
 },
 "nbformat": 4,
 "nbformat_minor": 5
}
